{
 "cells": [
  {
   "cell_type": "code",
   "execution_count": 1,
   "id": "e3ca885a-327e-4b69-942a-209c1515eeca",
   "metadata": {},
   "outputs": [
    {
     "name": "stdout",
     "output_type": "stream",
     "text": [
      "Using matplotlib backend: <object object at 0x000001AF2815B800>\n"
     ]
    },
    {
     "name": "stderr",
     "output_type": "stream",
     "text": [
      "C:\\Users\\wlew0391\\AppData\\Local\\Temp\\ipykernel_3752\\4169951836.py:15: MatplotlibDeprecationWarning: The get_cmap function was deprecated in Matplotlib 3.7 and will be removed two minor releases later. Use ``matplotlib.colormaps[name]`` or ``matplotlib.colormaps.get_cmap(obj)`` instead.\n",
      "  my_cmap = copy.copy(cm.get_cmap('magma'))\n"
     ]
    }
   ],
   "source": [
    "import numpy as np\n",
    "import matplotlib.pyplot as plt\n",
    "import math\n",
    "import pandas as pd\n",
    "from matplotlib import cm\n",
    "import matplotlib.cbook as cbook\n",
    "import matplotlib.colors as colors\n",
    "import copy\n",
    "from scipy.signal import find_peaks\n",
    "from scipy.optimize import curve_fit\n",
    "import scipy.stats as stats\n",
    "from sklearn.metrics import r2_score\n",
    "import random\n",
    "%matplotlib auto\n",
    "my_cmap = copy.copy(cm.get_cmap('magma'))\n",
    "my_cmap.set_bad(my_cmap.colors[0])\n",
    "plt.rcParams['axes.labelsize'] = 18\n",
    "plt.rcParams['axes.titlesize'] = 18\n",
    "plt.rcParams['legend.fontsize'] = 16\n",
    "plt.rcParams['xtick.labelsize'] = 16\n",
    "plt.rcParams['ytick.labelsize'] = 16\n",
    "plt.rcParams['figure.figsize'] = 12,7\n",
    "plt.rcParams['figure.autolayout'] = True"
   ]
  },
  {
   "cell_type": "code",
   "execution_count": 19,
   "id": "4b0f9034-9895-4cdc-bf33-8571e71e4958",
   "metadata": {},
   "outputs": [
    {
     "name": "stdout",
     "output_type": "stream",
     "text": [
      "             BLK31 Unnamed: 1 Unnamed: 2  Unnamed: 3  Unnamed: 4 Unnamed: 5  \\\n",
      "0        AMIDE-M69        NaN        NaN         NaN         NaN        NaN   \n",
      "1        AMIDE-M70        NaN        NaN         NaN         NaN        NaN   \n",
      "2    AMIDE-QC109-1        NaN        NaN         NaN         NaN        NaN   \n",
      "3    AMIDE-QC110-1        NaN        NaN         NaN         NaN        NaN   \n",
      "4     AMIDE-Q107-1        NaN        NaN         NaN         NaN        NaN   \n",
      "..             ...        ...        ...         ...         ...        ...   \n",
      "156         SA1169    IMP1066       Cord      2023.0        14.0    Control   \n",
      "157         SA1170    IMP1029     Mother      2023.0        14.0  Nutrition   \n",
      "158         SA1171    IMP1029       Cord      2023.0        14.0  Nutrition   \n",
      "159         SA1172    IMP1035     Mother      2023.0        14.0  Nutrition   \n",
      "160         SA1173    IMP1035       Cord      2023.0        14.0  Nutrition   \n",
      "\n",
      "     1  1.1  \n",
      "0    1    2  \n",
      "1    1    3  \n",
      "2    1    4  \n",
      "3    1    5  \n",
      "4    1    6  \n",
      "..  ..  ...  \n",
      "156  3   50  \n",
      "157  3   51  \n",
      "158  3   52  \n",
      "159  3   53  \n",
      "160  3   54  \n",
      "\n",
      "[161 rows x 8 columns]\n"
     ]
    }
   ],
   "source": [
    "#data_int = pd.read_csv('Test Sequence.csv', delimiter = ',', header = None)\n",
    "#print(data_int)\n",
    "\n",
    "data_int = pd.read_csv('RandomRun8_input_2.csv', delimiter = ',')\n",
    "print(data_int)"
   ]
  },
  {
   "cell_type": "code",
   "execution_count": 20,
   "id": "1ef5e470-cb59-453b-a50e-04731aa2dad3",
   "metadata": {},
   "outputs": [],
   "source": [
    "data_SA = data_int[data_int.iloc[:,0].str.contains('SA', regex = False)]\n",
    "data_SA_array = np.array(data_SA)\n",
    "SA_col = data_SA.columns\n",
    "#print(data_SA)\n",
    "#print(\"before reset index\", data_SA)\n",
    "data_SA = data_SA.reset_index()\n",
    "#print(\"after reset index\", data_SA)\n",
    "#print(type(data_SA.iloc[:,0]))\n",
    "\n",
    "# S=[[data_SA_array[z*2+y] for y in range(2)] for z in range(len(data_SA_array)//2)]\n",
    "# random.shuffle(S)\n",
    "# L2=[]\n",
    "# for x in S:\n",
    "#     for y in x:\n",
    "#         L2.append(y)\n",
    "# print(L2)\n",
    "# data_SA_shuff_df = pd.DataFrame(L2)\n",
    "# print(data_SA_shuff_df)\n",
    "# print(data_SA_array)\n",
    "#S = [[data_SA_array[k] for k in range(len(data_SA_array))]]\n",
    "#S_arr = np.array(S)\n",
    "data_SA_arr_list = [data_SA_array[k] for k in range(len(data_SA_array))]\n",
    "#print(data_SA_arr_list)\n",
    "random.shuffle(data_SA_arr_list)\n",
    "#print(data_SA_arr_list)\n",
    "\n",
    "#print(random.sample(S, len(S)))\n",
    "\n",
    "\n",
    "data_SA_shuff_df = pd.DataFrame(data_SA_arr_list)\n",
    "data_SA_shuff_df_conc = pd.concat([data_SA_shuff_df, data_SA.iloc[:,0]], axis = 1)\n",
    "#print(data_SA_shuff_df_conc)\n",
    "data_SA_indexed = data_SA_shuff_df_conc.set_index('index')\n",
    "data_SA_indexed.columns = SA_col\n",
    "#print(data_SA_indexed)"
   ]
  },
  {
   "cell_type": "code",
   "execution_count": 21,
   "id": "530c786d-00b1-4e0d-b059-266f4270ca7b",
   "metadata": {},
   "outputs": [],
   "source": [
    "data_QC = data_int.iloc[:,0].str.contains('M|QC|BLK')\n",
    "#print(data_QC)\n",
    "\n",
    "data_QC_index = []\n",
    "for k in range(len(data_QC)):\n",
    "    if k <= len(data_QC) - 2:\n",
    "        if data_QC[k] == data_QC[k+1] or data_QC[k] == data_QC[k-1]:\n",
    "            if data_QC[k] == True:\n",
    "                data_QC_index.append(k)\n",
    "    else:\n",
    "        if data_QC[k] == data_QC[k-1]:\n",
    "            if data_QC[k] == True:\n",
    "                data_QC_index.append(k)\n",
    "\n",
    "#print(data_QC_index)\n",
    "data_QC_df = data_int.iloc[data_QC_index]\n",
    "#print(data_QC_df)\n"
   ]
  },
  {
   "cell_type": "code",
   "execution_count": 22,
   "id": "c569d5ef-3a6a-4555-84f8-5885590de3ba",
   "metadata": {},
   "outputs": [
    {
     "name": "stdout",
     "output_type": "stream",
     "text": [
      "             BLK31 Unnamed: 1 Unnamed: 2  Unnamed: 3  Unnamed: 4 Unnamed: 5  \\\n",
      "0        AMIDE-M69        NaN        NaN         NaN         NaN        NaN   \n",
      "1        AMIDE-M70        NaN        NaN         NaN         NaN        NaN   \n",
      "2    AMIDE-QC109-1        NaN        NaN         NaN         NaN        NaN   \n",
      "3    AMIDE-QC110-1        NaN        NaN         NaN         NaN        NaN   \n",
      "4     AMIDE-Q107-1        NaN        NaN         NaN         NaN        NaN   \n",
      "..             ...        ...        ...         ...         ...        ...   \n",
      "156         SA1151    IMP1014       Cord      2023.0        14.0  Nutrition   \n",
      "157         SA1139    IMP1017       Cord      2023.0        14.0  Nutrition   \n",
      "158         SA1128    IMP1016     Mother      2023.0        13.0  Nutrition   \n",
      "159         SA1154    IMP1012     Mother      2023.0        14.0    Control   \n",
      "160         SA1089    IMP0944       Cord      2023.0        13.0    Control   \n",
      "\n",
      "     1  1.1  \n",
      "0    1    2  \n",
      "1    1    3  \n",
      "2    1    4  \n",
      "3    1    5  \n",
      "4    1    6  \n",
      "..  ..  ...  \n",
      "156  3   29  \n",
      "157  3   17  \n",
      "158  3    4  \n",
      "159  3   32  \n",
      "160  2   14  \n",
      "\n",
      "[161 rows x 8 columns]\n"
     ]
    }
   ],
   "source": [
    "random_data = pd.concat([data_SA_indexed, data_QC_df])\n",
    "rand_sorted_data = random_data.sort_index()\n",
    "print(rand_sorted_data)\n",
    "rand_sorted_data.to_csv(\"RandomOrderRun8_output_2.csv\")\n",
    "\n",
    "\n",
    "    "
   ]
  },
  {
   "cell_type": "code",
   "execution_count": null,
   "id": "375192d6-4d6b-4a30-954a-40eceb6daede",
   "metadata": {},
   "outputs": [],
   "source": []
  }
 ],
 "metadata": {
  "kernelspec": {
   "display_name": "Python 3 (ipykernel)",
   "language": "python",
   "name": "python3"
  },
  "language_info": {
   "codemirror_mode": {
    "name": "ipython",
    "version": 3
   },
   "file_extension": ".py",
   "mimetype": "text/x-python",
   "name": "python",
   "nbconvert_exporter": "python",
   "pygments_lexer": "ipython3",
   "version": "3.11.7"
  }
 },
 "nbformat": 4,
 "nbformat_minor": 5
}
